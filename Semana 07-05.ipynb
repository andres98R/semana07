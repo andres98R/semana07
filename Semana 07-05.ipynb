{
 "cells": [
  {
   "cell_type": "markdown",
   "id": "23eb68aa",
   "metadata": {},
   "source": [
    "# Semana 7"
   ]
  },
  {
   "cell_type": "markdown",
   "id": "39f24540",
   "metadata": {},
   "source": [
    "1.Números\n",
    "2.Variables\n",
    "3.Manejo de variables\n",
    "4.Ingreso de datos por teclado\n",
    "5.Edad"
   ]
  },
  {
   "cell_type": "markdown",
   "id": "66946fa5",
   "metadata": {},
   "source": [
    "5.Operadores"
   ]
  },
  {
   "cell_type": "code",
   "execution_count": null,
   "id": "a47a9d54",
   "metadata": {},
   "outputs": [],
   "source": [
    "#5.1 Operadores aritmeticos\n",
    "#Se tiene: +, -, *,/, **,%,//\n"
   ]
  },
  {
   "cell_type": "code",
   "execution_count": 1,
   "id": "02e14b4c",
   "metadata": {},
   "outputs": [
    {
     "name": "stdout",
     "output_type": "stream",
     "text": [
      "13\n",
      "7\n",
      "30\n",
      "3.3333333333333335\n",
      "1\n",
      "3\n",
      "1000\n"
     ]
    }
   ],
   "source": [
    "numero1=10\n",
    "numero2=3\n",
    "suma=numero1+numero2\n",
    "print(suma)\n",
    "resta=numero1-numero2\n",
    "print(resta)\n",
    "multiplicacion=numero1*numero2\n",
    "print(multiplicacion)\n",
    "division=numero1/numero2\n",
    "print(division)\n",
    "residuo=numero1%numero2\n",
    "print(residuo)\n",
    "cociente=numero1//numero2\n",
    "print(cociente)\n",
    "potencia=numero1**numero2\n",
    "print(potencia)"
   ]
  },
  {
   "cell_type": "code",
   "execution_count": 3,
   "id": "41e82e5e",
   "metadata": {},
   "outputs": [
    {
     "name": "stdout",
     "output_type": "stream",
     "text": [
      "8\n"
     ]
    }
   ],
   "source": [
    "#5.2 operadores de asignacion\n",
    "#se tiene: =,+=,-=,*-,/-,**-\n",
    "numero=5\n",
    "numero=numero+3\n",
    "print(numero)"
   ]
  },
  {
   "cell_type": "code",
   "execution_count": 4,
   "id": "3b5f6638",
   "metadata": {},
   "outputs": [
    {
     "name": "stdout",
     "output_type": "stream",
     "text": [
      "8\n"
     ]
    }
   ],
   "source": [
    "#La operacion anterior tambien se puede expresar de la siguiente manera\n",
    "numero=5\n",
    "numero+=3\n",
    "print(numero)"
   ]
  },
  {
   "cell_type": "code",
   "execution_count": 7,
   "id": "fd9504e2",
   "metadata": {},
   "outputs": [
    {
     "name": "stdout",
     "output_type": "stream",
     "text": [
      "125\n"
     ]
    }
   ],
   "source": [
    "#Lo mismo se puede hacer con todos los casos, incluso la potencia\n",
    "numero=5\n",
    "numero=numero ** 3\n",
    "print(numero)"
   ]
  },
  {
   "cell_type": "code",
   "execution_count": 8,
   "id": "e9366d18",
   "metadata": {},
   "outputs": [
    {
     "name": "stdout",
     "output_type": "stream",
     "text": [
      "125\n"
     ]
    }
   ],
   "source": [
    "#la operacion anterior tmabine se puded expresar de la siguiente manera:\n",
    "numero =5\n",
    "numero**=3\n",
    "print(numero)"
   ]
  },
  {
   "cell_type": "code",
   "execution_count": null,
   "id": "280b8f6c",
   "metadata": {},
   "outputs": [],
   "source": [
    "#5.3 Operadores de comparacion\n",
    "#se tinene: ==,!=,<,>,<=,>="
   ]
  },
  {
   "cell_type": "code",
   "execution_count": 9,
   "id": "dfcca7a7",
   "metadata": {},
   "outputs": [
    {
     "data": {
      "text/plain": [
       "False"
      ]
     },
     "execution_count": 9,
     "metadata": {},
     "output_type": "execute_result"
    }
   ],
   "source": [
    "#Ejemplo de igualdad\n",
    "numero1=5\n",
    "numero2=2\n",
    "numero1==numero2\n"
   ]
  },
  {
   "cell_type": "code",
   "execution_count": 10,
   "id": "6e14e9fd",
   "metadata": {},
   "outputs": [
    {
     "data": {
      "text/plain": [
       "True"
      ]
     },
     "execution_count": 10,
     "metadata": {},
     "output_type": "execute_result"
    }
   ],
   "source": [
    "#Con las cadenas funcion igual\n",
    "nombre1=\"Juan\"\n",
    "nombre2=\"Juan\"\n",
    "nombre1==nombre2"
   ]
  },
  {
   "cell_type": "code",
   "execution_count": 11,
   "id": "7114ed4a",
   "metadata": {},
   "outputs": [],
   "source": [
    "#5.4 Operadores logicos\n",
    "#Se tiene : and, or , not\n",
    "numero1 =5\n",
    "numero2 =6 \n",
    "numero3=7\n",
    "numero4=8"
   ]
  },
  {
   "cell_type": "code",
   "execution_count": 12,
   "id": "6b048967",
   "metadata": {},
   "outputs": [
    {
     "data": {
      "text/plain": [
       "False"
      ]
     },
     "execution_count": 12,
     "metadata": {},
     "output_type": "execute_result"
    }
   ],
   "source": [
    "# El not invierte el resultado\n",
    "not(numero1<numero2)"
   ]
  },
  {
   "cell_type": "code",
   "execution_count": 14,
   "id": "d261b989",
   "metadata": {},
   "outputs": [
    {
     "data": {
      "text/plain": [
       "True"
      ]
     },
     "execution_count": 14,
     "metadata": {},
     "output_type": "execute_result"
    }
   ],
   "source": [
    "numero1<numero2 and numero3<numero4"
   ]
  },
  {
   "cell_type": "code",
   "execution_count": 15,
   "id": "4cf6645c",
   "metadata": {},
   "outputs": [
    {
     "data": {
      "text/plain": [
       "True"
      ]
     },
     "execution_count": 15,
     "metadata": {},
     "output_type": "execute_result"
    }
   ],
   "source": [
    "#Tambien puede utilizar parentesis para ordenar tu operacion\n",
    "(numero1<numero2 and numero3<numero4)or (numero3>numero4)"
   ]
  },
  {
   "cell_type": "code",
   "execution_count": null,
   "id": "ba2311ac",
   "metadata": {},
   "outputs": [],
   "source": [
    "#5.5 operadores de pertenencia\n",
    "#se tiene: in not in"
   ]
  },
  {
   "cell_type": "code",
   "execution_count": 16,
   "id": "f2da692b",
   "metadata": {},
   "outputs": [],
   "source": [
    "# Miremos un ejemplo\n",
    "aula=[\"Juan\",\"Daniel\",\"Ruben\"]\n",
    "alumno1=\"Diego\"\n",
    "alumno2=\"Juan\""
   ]
  },
  {
   "cell_type": "code",
   "execution_count": 18,
   "id": "51aa6128",
   "metadata": {},
   "outputs": [
    {
     "data": {
      "text/plain": [
       "False"
      ]
     },
     "execution_count": 18,
     "metadata": {},
     "output_type": "execute_result"
    }
   ],
   "source": [
    "#¿Diego esta en aula\n",
    "alumno1 in aula\n"
   ]
  },
  {
   "cell_type": "code",
   "execution_count": 19,
   "id": "0ebae112",
   "metadata": {},
   "outputs": [
    {
     "data": {
      "text/plain": [
       "True"
      ]
     },
     "execution_count": 19,
     "metadata": {},
     "output_type": "execute_result"
    }
   ],
   "source": [
    "#¿Juan esta ne aula?\n",
    "alumno2 in aula"
   ]
  },
  {
   "cell_type": "code",
   "execution_count": 22,
   "id": "cb3a60c2",
   "metadata": {},
   "outputs": [
    {
     "data": {
      "text/plain": [
       "False"
      ]
     },
     "execution_count": 22,
     "metadata": {},
     "output_type": "execute_result"
    }
   ],
   "source": [
    "#¿Diego esta en aula?\n",
    "alumno2 not in aula"
   ]
  },
  {
   "cell_type": "code",
   "execution_count": 23,
   "id": "1e74f6aa",
   "metadata": {},
   "outputs": [],
   "source": [
    "#5.6 Operadores de identidad\n",
    "#se tiene: is, is not"
   ]
  },
  {
   "cell_type": "code",
   "execution_count": 25,
   "id": "85536211",
   "metadata": {},
   "outputs": [],
   "source": [
    "aula1=[\"Juan\",\"Daniel\",\"Ruben\"]\n",
    "aula2=[\"Juan\",\"Daniel\",\"Ruben\"]\n",
    "#A continucacion vamos a indicar que aula 3 va a \n",
    "#compartir el mismo objeto que aula1\n",
    "aula3 =aula1"
   ]
  },
  {
   "cell_type": "code",
   "execution_count": 26,
   "id": "6af032c6",
   "metadata": {},
   "outputs": [
    {
     "data": {
      "text/plain": [
       "True"
      ]
     },
     "execution_count": 26,
     "metadata": {},
     "output_type": "execute_result"
    }
   ],
   "source": [
    "# ¿Aula3 comparte el mismo objeto que aula 1?\n",
    "aula3 is aula1"
   ]
  },
  {
   "cell_type": "code",
   "execution_count": 29,
   "id": "b9959354",
   "metadata": {},
   "outputs": [
    {
     "data": {
      "text/plain": [
       "False"
      ]
     },
     "execution_count": 29,
     "metadata": {},
     "output_type": "execute_result"
    }
   ],
   "source": [
    "#¿Aula2 comparte el mismo objeto que aula1?\n",
    "aula2 is aula1"
   ]
  },
  {
   "cell_type": "code",
   "execution_count": 30,
   "id": "ee8e8972",
   "metadata": {},
   "outputs": [],
   "source": [
    "aula1.append(\"Diego\")"
   ]
  },
  {
   "cell_type": "code",
   "execution_count": 31,
   "id": "7c4e572f",
   "metadata": {},
   "outputs": [
    {
     "name": "stdout",
     "output_type": "stream",
     "text": [
      "['Juan', 'Daniel', 'Ruben', 'Diego']\n"
     ]
    }
   ],
   "source": [
    "#Al imprimir los elementos de la lista aula1 se observa\n",
    "print(aula1)"
   ]
  },
  {
   "cell_type": "code",
   "execution_count": 32,
   "id": "8d923931",
   "metadata": {},
   "outputs": [
    {
     "name": "stdout",
     "output_type": "stream",
     "text": [
      "['Juan', 'Daniel', 'Ruben', 'Diego']\n"
     ]
    }
   ],
   "source": [
    "#Al imprimir los elementos de la lista aula3 se observa\n",
    "print(aula3)"
   ]
  },
  {
   "cell_type": "code",
   "execution_count": 33,
   "id": "5419137c",
   "metadata": {},
   "outputs": [
    {
     "name": "stdout",
     "output_type": "stream",
     "text": [
      "['Juan', 'Daniel', 'Ruben']\n"
     ]
    }
   ],
   "source": [
    "#Al imprimir los elementos de la lista aula2 se observa\n",
    "print(aula2)"
   ]
  }
 ],
 "metadata": {
  "kernelspec": {
   "display_name": "Python 3 (ipykernel)",
   "language": "python",
   "name": "python3"
  },
  "language_info": {
   "codemirror_mode": {
    "name": "ipython",
    "version": 3
   },
   "file_extension": ".py",
   "mimetype": "text/x-python",
   "name": "python",
   "nbconvert_exporter": "python",
   "pygments_lexer": "ipython3",
   "version": "3.9.12"
  }
 },
 "nbformat": 4,
 "nbformat_minor": 5
}
