{
 "cells": [
  {
   "cell_type": "markdown",
   "id": "53d70e75",
   "metadata": {},
   "source": [
    "# Semana 07\n"
   ]
  },
  {
   "cell_type": "code",
   "execution_count": null,
   "id": "de92fec1",
   "metadata": {},
   "outputs": [],
   "source": [
    "1.Números\n",
    "2.Variables\n",
    "3.Manejo de variables\n",
    "4.Ingreso de datos por teclado\n",
    "5.Edad"
   ]
  },
  {
   "cell_type": "markdown",
   "id": "cb66bf32",
   "metadata": {},
   "source": [
    "2.Varibales"
   ]
  },
  {
   "cell_type": "code",
   "execution_count": null,
   "id": "e98cb627",
   "metadata": {},
   "outputs": [],
   "source": [
    "#siempre se debe iniciar con una letra o un guion abajo. (Nunca con un numero u otro simbolo)\n"
   ]
  },
  {
   "cell_type": "code",
   "execution_count": 3,
   "id": "43fb013f",
   "metadata": {},
   "outputs": [
    {
     "data": {
      "text/plain": [
       "41"
      ]
     },
     "execution_count": 3,
     "metadata": {},
     "output_type": "execute_result"
    }
   ],
   "source": [
    "edad=41\n",
    "edad "
   ]
  },
  {
   "cell_type": "code",
   "execution_count": 4,
   "id": "02e6c679",
   "metadata": {},
   "outputs": [
    {
     "data": {
      "text/plain": [
       "'Andres'"
      ]
     },
     "execution_count": 4,
     "metadata": {},
     "output_type": "execute_result"
    }
   ],
   "source": [
    "nombre = \"Andres\"\n",
    "nombre"
   ]
  },
  {
   "cell_type": "code",
   "execution_count": 5,
   "id": "38d5621b",
   "metadata": {},
   "outputs": [
    {
     "data": {
      "text/plain": [
       "'Rejas Ramirez'"
      ]
     },
     "execution_count": 5,
     "metadata": {},
     "output_type": "execute_result"
    }
   ],
   "source": [
    "apellido=\"Rejas Ramirez\"\n",
    "apellido"
   ]
  },
  {
   "cell_type": "code",
   "execution_count": 6,
   "id": "01312577",
   "metadata": {},
   "outputs": [
    {
     "data": {
      "text/plain": [
       "'AndresRejas Ramirez'"
      ]
     },
     "execution_count": 6,
     "metadata": {},
     "output_type": "execute_result"
    }
   ],
   "source": [
    "nombrecompleto =nombre + apellido\n",
    "nombrecompleto"
   ]
  },
  {
   "cell_type": "code",
   "execution_count": 7,
   "id": "b5f282e5",
   "metadata": {},
   "outputs": [
    {
     "data": {
      "text/plain": [
       "'Andres Rejas Ramirez'"
      ]
     },
     "execution_count": 7,
     "metadata": {},
     "output_type": "execute_result"
    }
   ],
   "source": [
    "nombrecompleto = nombre +\" \" + apellido\n",
    "nombrecompleto"
   ]
  },
  {
   "cell_type": "code",
   "execution_count": 9,
   "id": "0adf63bf",
   "metadata": {},
   "outputs": [
    {
     "data": {
      "text/plain": [
       "int"
      ]
     },
     "execution_count": 9,
     "metadata": {},
     "output_type": "execute_result"
    }
   ],
   "source": [
    "#Para saber el tipo de variable utilizamos la funcion type()\n",
    "numero = 50 \n",
    "type(numero)"
   ]
  },
  {
   "cell_type": "code",
   "execution_count": 10,
   "id": "1529ca88",
   "metadata": {},
   "outputs": [
    {
     "data": {
      "text/plain": [
       "str"
      ]
     },
     "execution_count": 10,
     "metadata": {},
     "output_type": "execute_result"
    }
   ],
   "source": [
    "type(nombre)"
   ]
  },
  {
   "cell_type": "code",
   "execution_count": 11,
   "id": "cd6453ef",
   "metadata": {},
   "outputs": [
    {
     "data": {
      "text/plain": [
       "1.57"
      ]
     },
     "execution_count": 11,
     "metadata": {},
     "output_type": "execute_result"
    }
   ],
   "source": [
    "talla=1.57\n",
    "talla"
   ]
  },
  {
   "cell_type": "code",
   "execution_count": 12,
   "id": "43aea58d",
   "metadata": {},
   "outputs": [
    {
     "data": {
      "text/plain": [
       "'100'"
      ]
     },
     "execution_count": 12,
     "metadata": {},
     "output_type": "execute_result"
    }
   ],
   "source": [
    "#Para convertir unnumero en cadena utilizamos sttr()\n",
    "numero=100\n",
    "cadena=str(numero)\n",
    "cadena"
   ]
  },
  {
   "cell_type": "code",
   "execution_count": 13,
   "id": "e424aa7e",
   "metadata": {},
   "outputs": [
    {
     "data": {
      "text/plain": [
       "str"
      ]
     },
     "execution_count": 13,
     "metadata": {},
     "output_type": "execute_result"
    }
   ],
   "source": [
    "type(cadena)"
   ]
  },
  {
   "cell_type": "code",
   "execution_count": 14,
   "id": "6c460d0d",
   "metadata": {},
   "outputs": [
    {
     "data": {
      "text/plain": [
       "50"
      ]
     },
     "execution_count": 14,
     "metadata": {},
     "output_type": "execute_result"
    }
   ],
   "source": [
    "#Para convertir una cadena en un entero utilizamos int()\n",
    "cadena2=\"50\"\n",
    "numero2=int(cadena2)\n",
    "numero2"
   ]
  },
  {
   "cell_type": "code",
   "execution_count": 15,
   "id": "5768e1ff",
   "metadata": {},
   "outputs": [
    {
     "data": {
      "text/plain": [
       "int"
      ]
     },
     "execution_count": 15,
     "metadata": {},
     "output_type": "execute_result"
    }
   ],
   "source": [
    "type(numero2)"
   ]
  },
  {
   "cell_type": "code",
   "execution_count": 16,
   "id": "f3ad27e7",
   "metadata": {},
   "outputs": [
    {
     "data": {
      "text/plain": [
       "50.0"
      ]
     },
     "execution_count": 16,
     "metadata": {},
     "output_type": "execute_result"
    }
   ],
   "source": [
    "#Para convertir una cadena a un decimal utilizamos float()\n",
    "cadena2=\"50\"\n",
    "numero2=float(cadena2)\n",
    "numero2"
   ]
  }
 ],
 "metadata": {
  "kernelspec": {
   "display_name": "Python 3 (ipykernel)",
   "language": "python",
   "name": "python3"
  },
  "language_info": {
   "codemirror_mode": {
    "name": "ipython",
    "version": 3
   },
   "file_extension": ".py",
   "mimetype": "text/x-python",
   "name": "python",
   "nbconvert_exporter": "python",
   "pygments_lexer": "ipython3",
   "version": "3.9.12"
  }
 },
 "nbformat": 4,
 "nbformat_minor": 5
}
