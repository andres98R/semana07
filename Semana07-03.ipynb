{
 "cells": [
  {
   "cell_type": "markdown",
   "id": "dc4b6b3e",
   "metadata": {},
   "source": [
    "# Semana 07"
   ]
  },
  {
   "cell_type": "markdown",
   "id": "5075ac91",
   "metadata": {},
   "source": [
    "1.Numeros\n",
    "2.variables\n",
    "3.Manejo de variables\n",
    "4.Ingreso de datos por teclado\n",
    "5.Edad"
   ]
  },
  {
   "cell_type": "markdown",
   "id": "fd0aa04b",
   "metadata": {},
   "source": [
    "3.Manejo de cadenas"
   ]
  },
  {
   "cell_type": "code",
   "execution_count": 1,
   "id": "075abcba",
   "metadata": {},
   "outputs": [
    {
     "data": {
      "text/plain": [
       "'Universidad Nacional Tecnologica de Lima Sur'"
      ]
     },
     "execution_count": 1,
     "metadata": {},
     "output_type": "execute_result"
    }
   ],
   "source": [
    "cadena =\"Universidad Nacional Tecnologica de Lima Sur\"\n",
    "cadena"
   ]
  },
  {
   "cell_type": "code",
   "execution_count": 3,
   "id": "e3f40f6a",
   "metadata": {},
   "outputs": [],
   "source": [
    "#Universidad Nacional Tecnologica de Lima Sur\n",
    "#01234\n",
    "#"
   ]
  },
  {
   "cell_type": "code",
   "execution_count": 4,
   "id": "04a3111d",
   "metadata": {},
   "outputs": [
    {
     "data": {
      "text/plain": [
       "'r'"
      ]
     },
     "execution_count": 4,
     "metadata": {},
     "output_type": "execute_result"
    }
   ],
   "source": [
    "cadena[5]"
   ]
  },
  {
   "cell_type": "code",
   "execution_count": 5,
   "id": "49707816",
   "metadata": {},
   "outputs": [
    {
     "data": {
      "text/plain": [
       "'d'"
      ]
     },
     "execution_count": 5,
     "metadata": {},
     "output_type": "execute_result"
    }
   ],
   "source": [
    "cadena[10]"
   ]
  },
  {
   "cell_type": "code",
   "execution_count": 6,
   "id": "b9c59e6c",
   "metadata": {},
   "outputs": [
    {
     "data": {
      "text/plain": [
       "' '"
      ]
     },
     "execution_count": 6,
     "metadata": {},
     "output_type": "execute_result"
    }
   ],
   "source": [
    "#tambien considera los espacios\n",
    "cadena[11]"
   ]
  },
  {
   "cell_type": "code",
   "execution_count": 11,
   "id": "3a09b928",
   "metadata": {},
   "outputs": [
    {
     "data": {
      "text/plain": [
       "'a'"
      ]
     },
     "execution_count": 11,
     "metadata": {},
     "output_type": "execute_result"
    }
   ],
   "source": [
    "#¿Que me mostrara?\n",
    "cadena[-5]"
   ]
  },
  {
   "cell_type": "code",
   "execution_count": 12,
   "id": "53a22c39",
   "metadata": {},
   "outputs": [
    {
     "data": {
      "text/plain": [
       "'T'"
      ]
     },
     "execution_count": 12,
     "metadata": {},
     "output_type": "execute_result"
    }
   ],
   "source": [
    "cadena[21]"
   ]
  },
  {
   "cell_type": "code",
   "execution_count": 13,
   "id": "3c329041",
   "metadata": {},
   "outputs": [
    {
     "data": {
      "text/plain": [
       "'T'"
      ]
     },
     "execution_count": 13,
     "metadata": {},
     "output_type": "execute_result"
    }
   ],
   "source": [
    "#tambien lo pudo mostrar accediendo de manera inversa\n",
    "cadena[-23]"
   ]
  },
  {
   "cell_type": "code",
   "execution_count": 14,
   "id": "881e7b3d",
   "metadata": {},
   "outputs": [
    {
     "data": {
      "text/plain": [
       "'versi'"
      ]
     },
     "execution_count": 14,
     "metadata": {},
     "output_type": "execute_result"
    }
   ],
   "source": [
    "#para mostrar una subcadena [desde, hasta una antes]\n",
    "#En java era substring()\n",
    "cadena[3:8]\n"
   ]
  },
  {
   "cell_type": "code",
   "execution_count": 15,
   "id": "4b712878",
   "metadata": {},
   "outputs": [
    {
     "data": {
      "text/plain": [
       "44"
      ]
     },
     "execution_count": 15,
     "metadata": {},
     "output_type": "execute_result"
    }
   ],
   "source": [
    "#Para saber el tamaño de una cadena utilizamos len()\n",
    "#incluye espacion en blanco\n",
    "len(cadena)"
   ]
  },
  {
   "cell_type": "code",
   "execution_count": 17,
   "id": "6f3f452a",
   "metadata": {},
   "outputs": [
    {
     "data": {
      "text/plain": [
       "'UNIVERSIDAD NACIONAL TECNOLOGICA DE LIMA SUR'"
      ]
     },
     "execution_count": 17,
     "metadata": {},
     "output_type": "execute_result"
    }
   ],
   "source": [
    "#Para mostrar una cadena en mayuscyla utilizamos upper()\n",
    "cadena.upper()"
   ]
  },
  {
   "cell_type": "code",
   "execution_count": 18,
   "id": "7bde2149",
   "metadata": {},
   "outputs": [
    {
     "data": {
      "text/plain": [
       "'universidad nacional tecnologica de lima sur'"
      ]
     },
     "execution_count": 18,
     "metadata": {},
     "output_type": "execute_result"
    }
   ],
   "source": [
    "cadena.lower()"
   ]
  },
  {
   "cell_type": "code",
   "execution_count": 19,
   "id": "e6b4310e",
   "metadata": {},
   "outputs": [
    {
     "data": {
      "text/plain": [
       "['Universidad', 'Nacional', 'Tecnologica', 'de', 'Lima', 'Sur']"
      ]
     },
     "execution_count": 19,
     "metadata": {},
     "output_type": "execute_result"
    }
   ],
   "source": [
    "#genera una lista a partir de una cadena.split()\n",
    "cadena.split()"
   ]
  },
  {
   "cell_type": "code",
   "execution_count": 21,
   "id": "8ad77a8a",
   "metadata": {},
   "outputs": [
    {
     "data": {
      "text/plain": [
       "['Universid', 'd N', 'cion', 'l Tecnologic', ' de Lim', ' Sur']"
      ]
     },
     "execution_count": 21,
     "metadata": {},
     "output_type": "execute_result"
    }
   ],
   "source": [
    "#genera una lista  utilizando un criterio de separacion a partir de una cadena. split()\n",
    "#En ese caso vamos a generar una lista de toda la cadena,\n",
    "#utilizamos como creiterio de serparacion la letra\"A\"\n",
    "cadena.split(\"a\")"
   ]
  },
  {
   "cell_type": "code",
   "execution_count": 22,
   "id": "2217e390",
   "metadata": {},
   "outputs": [
    {
     "name": "stdout",
     "output_type": "stream",
     "text": [
      "Buenas Tardes Andres Rejas\n"
     ]
    }
   ],
   "source": [
    "# Forma clasica, concatenar con +\n",
    "nombre= \"Andres Rejas\"\n",
    "print(\"Buenas Tardes \"+ nombre)"
   ]
  },
  {
   "cell_type": "code",
   "execution_count": 25,
   "id": "c8d3716a",
   "metadata": {},
   "outputs": [
    {
     "name": "stdout",
     "output_type": "stream",
     "text": [
      "hola Pablo Lévano ya se que tienes 10 años\n"
     ]
    }
   ],
   "source": [
    "# Utilizando el .format()\n",
    "nombre = \"Pablo Lévano\"\n",
    "edad=10\n",
    "print(\"hola {} ya se que tienes {} años\".format(nombre,edad))"
   ]
  },
  {
   "cell_type": "code",
   "execution_count": 32,
   "id": "8a26513b",
   "metadata": {},
   "outputs": [
    {
     "name": "stdout",
     "output_type": "stream",
     "text": [
      "10/3 es = 3.3333333333333335\n",
      "10/3 es = 3.33333\n"
     ]
    }
   ],
   "source": [
    "#dar formato a numeros con muchos decimales\n",
    "resultado=10/3\n",
    "print(\"10/3 es = {}\".format(resultado))\n",
    "print(\"10/3 es = {r:1.5f}\".format(r=resultado))"
   ]
  },
  {
   "cell_type": "code",
   "execution_count": 36,
   "id": "e845d4b1",
   "metadata": {},
   "outputs": [
    {
     "name": "stdout",
     "output_type": "stream",
     "text": [
      "hola Pablo Lévano ya se que tienes 10 años\n"
     ]
    }
   ],
   "source": [
    "# Concatenamos con la funcion f\n",
    "nombre = \"Pablo Lévano\"\n",
    "edad=10\n",
    "print(f\"hola {nombre} ya se que tienes {edad} años\")"
   ]
  },
  {
   "cell_type": "code",
   "execution_count": 37,
   "id": "e96736d1",
   "metadata": {},
   "outputs": [
    {
     "name": "stdout",
     "output_type": "stream",
     "text": [
      "10/3 es = 3.3333333333333335\n",
      "10/3 es = 3.333\n"
     ]
    }
   ],
   "source": [
    "#dar formato a numero con muchos decimales con f\n",
    "resultado=10/3\n",
    "print(f\"10/3 es = {resultado}\")\n",
    "print(f\"10/3 es = {resultado:1.3f}\")"
   ]
  }
 ],
 "metadata": {
  "kernelspec": {
   "display_name": "Python 3 (ipykernel)",
   "language": "python",
   "name": "python3"
  },
  "language_info": {
   "codemirror_mode": {
    "name": "ipython",
    "version": 3
   },
   "file_extension": ".py",
   "mimetype": "text/x-python",
   "name": "python",
   "nbconvert_exporter": "python",
   "pygments_lexer": "ipython3",
   "version": "3.9.12"
  }
 },
 "nbformat": 4,
 "nbformat_minor": 5
}
