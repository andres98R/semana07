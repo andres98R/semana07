{
 "cells": [
  {
   "cell_type": "markdown",
   "id": "061e54ba",
   "metadata": {},
   "source": [
    "# Semana 07\n"
   ]
  },
  {
   "cell_type": "markdown",
   "id": "1da16361",
   "metadata": {},
   "source": [
    "1.Números\n",
    "2.Variables\n",
    "3.Manejo de variables\n",
    "4.Ingreso de datos por teclado\n",
    "5.Edad"
   ]
  },
  {
   "cell_type": "markdown",
   "id": "f5ab0491",
   "metadata": {},
   "source": [
    "2.Varibales"
   ]
  },
  {
   "cell_type": "code",
   "execution_count": null,
   "id": "545be483",
   "metadata": {},
   "outputs": [],
   "source": [
    "#siempre se debe iniciar con una letra o un guion abajo. (Nunca con un numero u otro simbolo)\n"
   ]
  },
  {
   "cell_type": "code",
   "execution_count": 3,
   "id": "95253460",
   "metadata": {},
   "outputs": [
    {
     "data": {
      "text/plain": [
       "41"
      ]
     },
     "execution_count": 3,
     "metadata": {},
     "output_type": "execute_result"
    }
   ],
   "source": [
    "edad=41\n",
    "edad "
   ]
  },
  {
   "cell_type": "code",
   "execution_count": 4,
   "id": "c8d284d6",
   "metadata": {},
   "outputs": [
    {
     "data": {
      "text/plain": [
       "'Andres'"
      ]
     },
     "execution_count": 4,
     "metadata": {},
     "output_type": "execute_result"
    }
   ],
   "source": [
    "nombre = \"Andres\"\n",
    "nombre"
   ]
  },
  {
   "cell_type": "code",
   "execution_count": 5,
   "id": "567c73dd",
   "metadata": {},
   "outputs": [
    {
     "data": {
      "text/plain": [
       "'Rejas Ramirez'"
      ]
     },
     "execution_count": 5,
     "metadata": {},
     "output_type": "execute_result"
    }
   ],
   "source": [
    "apellido=\"Rejas Ramirez\"\n",
    "apellido"
   ]
  },
  {
   "cell_type": "code",
   "execution_count": 6,
   "id": "223a4fe9",
   "metadata": {},
   "outputs": [
    {
     "data": {
      "text/plain": [
       "'AndresRejas Ramirez'"
      ]
     },
     "execution_count": 6,
     "metadata": {},
     "output_type": "execute_result"
    }
   ],
   "source": [
    "nombrecompleto =nombre + apellido\n",
    "nombrecompleto"
   ]
  },
  {
   "cell_type": "code",
   "execution_count": 7,
   "id": "d9232fcb",
   "metadata": {},
   "outputs": [
    {
     "data": {
      "text/plain": [
       "'Andres Rejas Ramirez'"
      ]
     },
     "execution_count": 7,
     "metadata": {},
     "output_type": "execute_result"
    }
   ],
   "source": [
    "nombrecompleto = nombre +\" \" + apellido\n",
    "nombrecompleto"
   ]
  },
  {
   "cell_type": "code",
   "execution_count": 9,
   "id": "9a9afcf5",
   "metadata": {},
   "outputs": [
    {
     "data": {
      "text/plain": [
       "int"
      ]
     },
     "execution_count": 9,
     "metadata": {},
     "output_type": "execute_result"
    }
   ],
   "source": [
    "#Para saber el tipo de variable utilizamos la funcion type()\n",
    "numero = 50 \n",
    "type(numero)"
   ]
  },
  {
   "cell_type": "code",
   "execution_count": 10,
   "id": "de41d32e",
   "metadata": {},
   "outputs": [
    {
     "data": {
      "text/plain": [
       "str"
      ]
     },
     "execution_count": 10,
     "metadata": {},
     "output_type": "execute_result"
    }
   ],
   "source": [
    "type(nombre)"
   ]
  },
  {
   "cell_type": "code",
   "execution_count": 11,
   "id": "50ad1428",
   "metadata": {},
   "outputs": [
    {
     "data": {
      "text/plain": [
       "1.57"
      ]
     },
     "execution_count": 11,
     "metadata": {},
     "output_type": "execute_result"
    }
   ],
   "source": [
    "talla=1.57\n",
    "talla"
   ]
  },
  {
   "cell_type": "code",
   "execution_count": 12,
   "id": "73910840",
   "metadata": {},
   "outputs": [
    {
     "data": {
      "text/plain": [
       "'100'"
      ]
     },
     "execution_count": 12,
     "metadata": {},
     "output_type": "execute_result"
    }
   ],
   "source": [
    "#Para convertir unnumero en cadena utilizamos sttr()\n",
    "numero=100\n",
    "cadena=str(numero)\n",
    "cadena"
   ]
  },
  {
   "cell_type": "code",
   "execution_count": 13,
   "id": "b689be4a",
   "metadata": {},
   "outputs": [
    {
     "data": {
      "text/plain": [
       "str"
      ]
     },
     "execution_count": 13,
     "metadata": {},
     "output_type": "execute_result"
    }
   ],
   "source": [
    "type(cadena)"
   ]
  },
  {
   "cell_type": "code",
   "execution_count": 14,
   "id": "87926d37",
   "metadata": {},
   "outputs": [
    {
     "data": {
      "text/plain": [
       "50"
      ]
     },
     "execution_count": 14,
     "metadata": {},
     "output_type": "execute_result"
    }
   ],
   "source": [
    "#Para convertir una cadena en un entero utilizamos int()\n",
    "cadena2=\"50\"\n",
    "numero2=int(cadena2)\n",
    "numero2"
   ]
  },
  {
   "cell_type": "code",
   "execution_count": 15,
   "id": "8fcb3ff8",
   "metadata": {},
   "outputs": [
    {
     "data": {
      "text/plain": [
       "int"
      ]
     },
     "execution_count": 15,
     "metadata": {},
     "output_type": "execute_result"
    }
   ],
   "source": [
    "type(numero2)"
   ]
  },
  {
   "cell_type": "code",
   "execution_count": 16,
   "id": "4972472d",
   "metadata": {},
   "outputs": [
    {
     "data": {
      "text/plain": [
       "50.0"
      ]
     },
     "execution_count": 16,
     "metadata": {},
     "output_type": "execute_result"
    }
   ],
   "source": [
    "#Para convertir una cadena a un decimal utilizamos float()\n",
    "cadena2=\"50\"\n",
    "numero2=float(cadena2)\n",
    "numero2"
   ]
  }
 ],
 "metadata": {
  "kernelspec": {
   "display_name": "Python 3 (ipykernel)",
   "language": "python",
   "name": "python3"
  },
  "language_info": {
   "codemirror_mode": {
    "name": "ipython",
    "version": 3
   },
   "file_extension": ".py",
   "mimetype": "text/x-python",
   "name": "python",
   "nbconvert_exporter": "python",
   "pygments_lexer": "ipython3",
   "version": "3.9.12"
  }
 },
 "nbformat": 4,
 "nbformat_minor": 5
}
