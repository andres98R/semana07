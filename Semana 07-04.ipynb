{
 "cells": [
  {
   "cell_type": "markdown",
   "id": "e9f47c5e",
   "metadata": {},
   "source": [
    "# Semana 07"
   ]
  },
  {
   "cell_type": "markdown",
   "id": "eb2bd4c1",
   "metadata": {},
   "source": [
    "1.Números\n",
    "2.Variables\n",
    "3.Manejo de variables\n",
    "4.Ingreso de datos por teclado\n",
    "5.Edad"
   ]
  },
  {
   "cell_type": "markdown",
   "id": "b89c2846",
   "metadata": {},
   "source": [
    "4.ingreso de datos por teclado"
   ]
  },
  {
   "cell_type": "code",
   "execution_count": 1,
   "id": "7fefacae",
   "metadata": {},
   "outputs": [
    {
     "name": "stdout",
     "output_type": "stream",
     "text": [
      "Cual es tu nombre?\n",
      "Andres\n",
      "hola Andres\n"
     ]
    }
   ],
   "source": [
    "#funcion input()\n",
    "print(\"¿Cual es tu nombre?\")\n",
    "nombre=input()\n",
    "print(\"hola \" + nombre)"
   ]
  },
  {
   "cell_type": "code",
   "execution_count": 3,
   "id": "08beb7d4",
   "metadata": {},
   "outputs": [
    {
     "name": "stdout",
     "output_type": "stream",
     "text": [
      "numero 1: \n",
      "5\n",
      "numero 2: \n",
      "3\n",
      "El resultado es 8\n"
     ]
    }
   ],
   "source": [
    "#Cuando ingresa un valor por teclado lo hace como cadena\n",
    "print(\"numero 1: \")\n",
    "numero1=input()\n",
    "print(\"numero 2: \")\n",
    "numero2 =input()\n",
    "numero3=int (numero1)+ int(numero2)\n",
    "print(f\"El resultado es {numero3}\")"
   ]
  }
 ],
 "metadata": {
  "kernelspec": {
   "display_name": "Python 3 (ipykernel)",
   "language": "python",
   "name": "python3"
  },
  "language_info": {
   "codemirror_mode": {
    "name": "ipython",
    "version": 3
   },
   "file_extension": ".py",
   "mimetype": "text/x-python",
   "name": "python",
   "nbconvert_exporter": "python",
   "pygments_lexer": "ipython3",
   "version": "3.9.12"
  }
 },
 "nbformat": 4,
 "nbformat_minor": 5
}
